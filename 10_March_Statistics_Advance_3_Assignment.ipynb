{
  "nbformat": 4,
  "nbformat_minor": 0,
  "metadata": {
    "colab": {
      "provenance": []
    },
    "kernelspec": {
      "name": "python3",
      "display_name": "Python 3"
    },
    "language_info": {
      "name": "python"
    }
  },
  "cells": [
    {
      "cell_type": "markdown",
      "source": [
        "Q1: What is Estimation Statistics? Explain point estimate and interval estimate."
      ],
      "metadata": {
        "id": "7bZ8eKoo6Y35"
      }
    },
    {
      "cell_type": "markdown",
      "source": [
        "Answer:-\n",
        "\n",
        "Estimation statistics is a branch of statistics that involves using data from a sample to make inferences about the population. The goal of estimation is to provide information about population parameters, such as the mean or proportion, based on a sample of data.\n",
        "\n",
        "There are two main types of estimates: point estimates and interval estimates.\n",
        "\n",
        "1.Point Estimate: A point estimate is a single value that is used to estimate a population parameter. It is obtained by using a sample statistic, such as the sample mean or sample proportion, to estimate the corresponding population parameter.\n",
        "\n",
        "2.Interval Estimate: An interval estimate, also called a confidence interval, is a range of values that is likely to contain the true population parameter with a certain level of confidence. It is obtained by using a sample statistic, such as the sample mean or sample proportion, to calculate an interval of values that is likely to contain the true population parameter."
      ],
      "metadata": {
        "id": "amFzPQpb6bAy"
      }
    },
    {
      "cell_type": "markdown",
      "source": [
        "Q2. Write a Python function to estimate the population mean using a sample mean and standard\n",
        "deviation."
      ],
      "metadata": {
        "id": "V2_mHEOs7Vqe"
      }
    },
    {
      "cell_type": "markdown",
      "source": [
        "Answer:-\n",
        "\n",
        "1.Creating a estimate_pop_mean function"
      ],
      "metadata": {
        "id": "iD5xf2Pq7Y9H"
      }
    },
    {
      "cell_type": "code",
      "execution_count": null,
      "metadata": {
        "id": "oj5ajhs86SlC"
      },
      "outputs": [],
      "source": [
        "import math\n",
        "import scipy.stats as stats\n",
        "\n",
        "def estimate_pop_mean(samples, confidence_level=0.95):\n",
        "    # calculate the sample mean and standard deviation\n",
        "    sample_mean = sum(samples) / len(samples)\n",
        "    sample_std = math.sqrt(sum([(x - sample_mean)**2 for x in samples]) / (len(samples) - 1))\n",
        "\n",
        "    # calculate the t-value for the desired level of confidence and degrees of freedom\n",
        "    alpha = 1 - confidence_level\n",
        "    dof = len(samples) - 1\n",
        "    t_value = stats.t.ppf(1 - alpha/2, dof)\n",
        "\n",
        "    # calculate the standard error and margin of error\n",
        "    std_error = sample_std / math.sqrt(len(samples))\n",
        "    margin_of_error = t_value * std_error\n",
        "\n",
        "    # calculate the confidence interval bounds\n",
        "    lower_bound = sample_mean - margin_of_error\n",
        "    upper_bound = sample_mean + margin_of_error\n",
        "\n",
        "    # return the confidence interval as a tuple\n",
        "    return (lower_bound, upper_bound)"
      ]
    },
    {
      "cell_type": "markdown",
      "source": [
        "2.Example with sample and population data"
      ],
      "metadata": {
        "id": "tIcU2AXV76ik"
      }
    },
    {
      "cell_type": "code",
      "source": [
        "import numpy as np\n",
        "import random\n",
        "\n",
        "# Set random seed for reproducibility\n",
        "np.random.seed(42)\n",
        "\n",
        "# Create a population of 1000 random values between 0 and 100\n",
        "population_size = 1000\n",
        "population = np.random.uniform(low=0, high=100, size=population_size)\n",
        "\n",
        "# Take a random sample of 100 values from the population\n",
        "sample_size = 100\n",
        "sample = random.sample(list(population), sample_size)\n",
        "\n",
        "# Estimate the population mean and interval using the sample data\n",
        "lower_bound, upper_bound = estimate_pop_mean(sample)\n",
        "\n",
        "# Print the estimated mean\n",
        "print(f\"ESTIMATED population mean point estimate is : {np.mean(sample)}\")\n",
        "print(f\"ESTIMATED population mean with 95% confidence interval : ({lower_bound},{upper_bound})\")\n",
        "print('\\n==========================================================================================================\\n')\n",
        "# Printing Actual population mean\n",
        "print(f\"ACTUAL Population mean is : {np.mean(population)}\")"
      ],
      "metadata": {
        "colab": {
          "base_uri": "https://localhost:8080/"
        },
        "id": "uGnXNZfv72sr",
        "outputId": "de40fdc2-f09d-4730-a1c9-4c2bb7bcd276"
      },
      "execution_count": null,
      "outputs": [
        {
          "output_type": "stream",
          "name": "stdout",
          "text": [
            "ESTIMATED population mean point estimate is : 47.20219276208111\n",
            "ESTIMATED population mean with 95% confidence interval : (41.298169183701006,53.10621634046116)\n",
            "\n",
            "==========================================================================================================\n",
            "\n",
            "ACTUAL Population mean is : 49.02565533201336\n"
          ]
        }
      ]
    },
    {
      "cell_type": "markdown",
      "source": [
        "Q3: What is Hypothesis testing? Why is it used? State the importance of Hypothesis testing."
      ],
      "metadata": {
        "id": "1VmBZG9z8Jw6"
      }
    },
    {
      "cell_type": "markdown",
      "source": [
        "Answer:-\n",
        "\n",
        "Hypothesis testing is a statistical method used to determine whether a hypothesis about a population parameter is supported by the evidence provided by a sample of data. The process involves making a statistical inference about a population parameter, such as a mean or a proportion, based on sample data.\n",
        "\n",
        "In hypothesis testing, a null hypothesis is initially assumed to be true, and then evidence is gathered and analyzed to determine whether the null hypothesis can be rejected in favor of an alternative hypothesis. The null hypothesis represents the status quo or the default assumption, while the alternative hypothesis represents the proposed change or difference.\n",
        "\n",
        "Hypothesis testing is used in many fields, including science, engineering, business, and social sciences, to draw conclusions about the population based on sample data. For example, a pharmaceutical company may use hypothesis testing to determine whether a new drug is more effective than an existing drug. A marketing team may use hypothesis testing to determine whether a new advertising campaign is more effective than the current one.\n",
        "\n",
        "The importance of hypothesis testing lies in its ability to make statistical inferences about a population based on sample data, while accounting for the uncertainty and variability of the data. It provides a systematic and objective way to test a hypothesis and draw conclusions based on the evidence. Hypothesis testing allows us to make informed decisions based on data, rather than relying on intuition or guesswork. It is a critical tool in scientific research, where the validity and reliability of the results depend on the appropriate use of hypothesis testing."
      ],
      "metadata": {
        "id": "YRFREPEE8KVy"
      }
    },
    {
      "cell_type": "markdown",
      "source": [
        "Q4. Create a hypothesis that states whether the average weight of male college students is greater than\n",
        "the average weight of female college students."
      ],
      "metadata": {
        "id": "_J5Tw7S78oyH"
      }
    },
    {
      "cell_type": "markdown",
      "source": [
        "Answer:\n",
        "\n",
        "Null hypothesis: The average weight of male college students is equal to or less than the average weight of female college students.\n",
        "Alternative hypothesis: The average weight of male college students is greater than the average weight of female college students.\n",
        "\n",
        "In statistical notation, this can be represented as:\n",
        "\n",
        "H0: μm ≤ μf\n",
        "\n",
        "Ha: μm > μf\n",
        "\n",
        "where:\n",
        "\n",
        "1.H0 = null hypothesis\n",
        "\n",
        "2.Ha = alternative hypothesis\n",
        "\n",
        "3.μm = population mean weight of male college students\n",
        "\n",
        "4.μf = population mean weight of female college students\n",
        "\n",
        "The null hypothesis assumes that there is no significant difference in weight between male and female college students.\n",
        "\n",
        "The alternative hypothesis assumes that there is a significant difference in weight, and specifically that male college students have a higher average weight than female college students."
      ],
      "metadata": {
        "id": "pdzDkfGu8pbi"
      }
    },
    {
      "cell_type": "markdown",
      "source": [
        "Q5. Write a Python script to conduct a hypothesis test on the difference between two population means,\n",
        "given a sample from each population."
      ],
      "metadata": {
        "id": "DHuoBrqN8_3h"
      }
    },
    {
      "cell_type": "markdown",
      "source": [
        "Answer:-\n"
      ],
      "metadata": {
        "id": "2Hp4wmuW9FT2"
      }
    },
    {
      "cell_type": "code",
      "source": [
        "import numpy as np\n",
        "from scipy.stats import ttest_ind\n",
        "\n",
        "# create two random samples\n",
        "sample1 = np.random.normal(10, 2, 100)\n",
        "sample2 = np.random.normal(12, 2, 100)\n",
        "\n",
        "# conduct t-test\n",
        "t_stat, p_val = ttest_ind(sample1, sample2)\n",
        "\n",
        "# print results\n",
        "print(\"t-statistic: \", t_stat)\n",
        "print(\"p-value: \", p_val)\n",
        "\n",
        "# check if p-value is significant at 5% level\n",
        "if p_val < 0.05:\n",
        "    print(\"Reject null hypothesis\")\n",
        "else:\n",
        "    print(\"Fail to reject null hypothesis\")"
      ],
      "metadata": {
        "colab": {
          "base_uri": "https://localhost:8080/"
        },
        "id": "1cet57vI8AlE",
        "outputId": "8d43b3e2-1a15-403c-efae-9264966b0867"
      },
      "execution_count": null,
      "outputs": [
        {
          "output_type": "stream",
          "name": "stdout",
          "text": [
            "t-statistic:  -7.841675404692003\n",
            "p-value:  2.695133067166488e-13\n",
            "Reject null hypothesis\n"
          ]
        }
      ]
    },
    {
      "cell_type": "markdown",
      "source": [
        "Q6: What is a null and alternative hypothesis? Give some examples."
      ],
      "metadata": {
        "id": "TgZ9QJ8j9uhY"
      }
    },
    {
      "cell_type": "markdown",
      "source": [
        "Answer:\n",
        "\n",
        "The null hypothesis (H0) states that there is no significant difference between two populations or variables. It is often the default or conventional position and is tested against the alternative hypothesis. In other words, it is the claim that researchers aim to reject or fail to reject based on the evidence from the data.\n",
        "\n",
        "The alternative hypothesis (H1) is the complement of the null hypothesis and states that there is a significant difference between two populations or variables. It represents the claim that researchers seek to support or prove based on the evidence from the data.\n",
        "\n",
        "Examples:\n",
        "\n",
        "1.Null hypothesis: The average IQ scores of two groups of students are equal.\n",
        "Alternative hypothesis: The average IQ score of one group of students is significantly different from the other group.\n",
        "\n",
        "2.Null hypothesis: The new drug has no effect on curing a disease.\n",
        "Alternative hypothesis: The new drug is significantly more effective in curing the disease than the current drug."
      ],
      "metadata": {
        "id": "XPjQCeXv9vLH"
      }
    },
    {
      "cell_type": "markdown",
      "source": [
        "Q7: Write down the steps involved in hypothesis testing."
      ],
      "metadata": {
        "id": "17E0yHQd-CIF"
      }
    },
    {
      "cell_type": "markdown",
      "source": [
        "Answer:-\n",
        "\n",
        "The general steps involved in hypothesis testing are:-\n",
        "\n",
        "1.Formulate Hypotheses:\n",
        "\n",
        "Null Hypothesis (H0): A statement of no effect or no difference. It is the hypothesis that we seek to test against.\n",
        "\n",
        "Alternative Hypothesis (H1 or Ha): A statement that indicates the presence of an effect or a difference. It is what we aim to provide evidence for.\n",
        "\n",
        "2.Select Significance Level (α):\n",
        "\n",
        "Choose a significance level, typically 0.05 (5%) or 0.01 (1%), which represents the probability of rejecting the null hypothesis when it is actually true (Type I error).\n",
        "\n",
        "3.Collect Data:\n",
        "\n",
        "Gather sample data that is representative of the population you are studying. Ensure that the sample size is adequate to provide reliable results.\n",
        "\n",
        "4.Choose the Appropriate Test:\n",
        "\n",
        "Select a statistical test based on the nature of the data and the hypotheses. Common tests include t-tests, chi-square tests, and ANOVA.\n",
        "\n",
        "5.Calculate the Test Statistic:\n",
        "\n",
        "Compute the test statistic using the sample data. The test statistic quantifies the difference between the observed data and what is expected under the null hypothesis.\n",
        "\n",
        "6.Determine the P-Value or Critical Value:\n",
        "\n",
        "P-Value: The probability of obtaining a result at least as extreme as the observed result, assuming the null hypothesis is true.\n",
        "\n",
        "Critical Value: A threshold that determines the boundary for rejecting the null hypothesis, based on the significance level and the distribution of the test statistic.\n",
        "\n",
        "7.Make a Decision:\n",
        "\n",
        "Compare the P-Value with α: If the p-value is less than the significance level (α), reject the null hypothesis. Otherwise, fail to reject the null hypothesis.\n",
        "\n",
        "Compare the Test Statistic with the Critical Value: If the test statistic exceeds the critical value, reject the null hypothesis. Otherwise, fail to reject the null hypothesis.\n",
        "\n",
        "8.Draw Conclusions:\n",
        "\n",
        "Interpret the results in the context of the study. State whether there is sufficient evidence to support the alternative hypothesis or if the null hypothesis cannot be rejected.\n",
        "\n",
        "9.Report the Results:\n",
        "\n",
        "Document the findings, including the test statistic, p-value, decision, and any relevant interpretations. This ensures transparency and allows others to understand and replicate the analysis.\n"
      ],
      "metadata": {
        "id": "qzUKLzD1-Csr"
      }
    },
    {
      "cell_type": "markdown",
      "source": [
        "Q8. Define p-value and explain its significance in hypothesis testing."
      ],
      "metadata": {
        "id": "B23j3zTn9udx"
      }
    },
    {
      "cell_type": "markdown",
      "source": [
        "Answer:-\n",
        "\n",
        "In hypothesis testing, the p-value is the probability of obtaining a test statistic as extreme or more extreme than the observed value, assuming the null hypothesis is true. The p-value is a measure of the strength of the evidence against the null hypothesis.\n",
        "\n",
        "If the p-value is less than or equal to the level of significance (alpha), it is considered statistically significant, and the null hypothesis is rejected. This indicates that the observed result is unlikely to have occurred by chance and supports the alternative hypothesis. If the p-value is greater than the level of significance, the null hypothesis cannot be rejected, and the result is not considered statistically significant.\n",
        "\n",
        "The p-value is significant because it provides a quantitative measure of the strength of the evidence against the null hypothesis. A small p-value indicates strong evidence against the null hypothesis, whereas a large p-value indicates weak evidence against the null hypothesis. The p-value also helps researchers make informed decisions about whether to reject or fail to reject the null hypothesis and draw conclusions based on the statistical analysis"
      ],
      "metadata": {
        "id": "6G-LEViz-6qg"
      }
    },
    {
      "cell_type": "markdown",
      "source": [
        "Q9. Generate a Student's t-distribution plot using Python's matplotlib library, with the degrees of freedom\n",
        "parameter set to 10."
      ],
      "metadata": {
        "id": "gYT1-4-v_MZB"
      }
    },
    {
      "cell_type": "markdown",
      "source": [
        "Answer:-\n",
        "\n",
        "Here's how you can generate a Student's t-distribution plot using Python's matplotlib library, with the degrees of freedom parameter set to 10:\n",
        "\n",
        "Code"
      ],
      "metadata": {
        "id": "sbNsilyt_Nwt"
      }
    },
    {
      "cell_type": "code",
      "source": [
        "import matplotlib.pyplot as plt\n",
        "import numpy as np\n",
        "from scipy.stats import t\n",
        "\n",
        "df = 10 # degrees of freedom\n",
        "data = t.rvs(df, size=1000) # generate 1000 random values from the t-distribution with 10 degrees of freedom\n",
        "\n",
        "fig, ax = plt.subplots()\n",
        "ax.hist(data, bins='fd', density=True, alpha=0.5,edgecolor='black',label='histogram')\n",
        "\n",
        "kde_xs = np.linspace(data.min(), data.max(), 1000)\n",
        "kde = t.pdf(kde_xs, df)\n",
        "ax.plot(kde_xs, kde, label='KDE', linewidth=2)\n",
        "\n",
        "ax.set_xlabel('x')\n",
        "ax.set_ylabel('Probability density')\n",
        "ax.set_title('Student\\'s t-distribution with 10 degrees of freedom')\n",
        "ax.legend(loc='best')\n",
        "plt.show()"
      ],
      "metadata": {
        "colab": {
          "base_uri": "https://localhost:8080/",
          "height": 472
        },
        "id": "v8Q5Xu2p9oVY",
        "outputId": "b48bfd02-080c-462e-89da-dafe27806f2b"
      },
      "execution_count": null,
      "outputs": [
        {
          "output_type": "display_data",
          "data": {
            "text/plain": [
              "<Figure size 640x480 with 1 Axes>"
            ],
            "image/png": "[encoded data removed]"
          },
          "metadata": {}
        }
      ]
    },
    {
      "cell_type": "markdown",
      "source": [
        "Q10. Write a Python program to calculate the two-sample t-test for independent samples, given two\n",
        "random samples of equal size and a null hypothesis that the population means are equal."
      ],
      "metadata": {
        "id": "CIl29XJr_tdT"
      }
    },
    {
      "cell_type": "markdown",
      "source": [
        "Answer:-\n"
      ],
      "metadata": {
        "id": "J0w7GJK6_5A6"
      }
    },
    {
      "cell_type": "code",
      "source": [
        "import numpy as np\n",
        "from scipy.stats import ttest_ind\n",
        "\n",
        "# Generate two random samples of equal size\n",
        "sample1 = np.random.normal(loc=10, scale=2, size=50)\n",
        "sample2 = np.random.normal(loc=12, scale=2, size=50)\n",
        "\n",
        "# Calculate the t-statistic and p-value using the ttest_ind function\n",
        "t_stat, p_val = ttest_ind(sample1, sample2)\n",
        "\n",
        "# Print the results\n",
        "print(\"t-statistic = \", t_stat)\n",
        "print(\"p-value = \", p_val)\n",
        "\n",
        "alpha = 0.01\n",
        "print(\"Confidence Interval =\",1-alpha)\n",
        "print('\\n')\n",
        "\n",
        "# Test the null hypothesis\n",
        "if p_val < alpha:\n",
        "    print(\"REJECT the null hypothesis that the population means are equal.\")\n",
        "    print(\"Conclusion : Population means for both samples are DIFFERENT\")\n",
        "else:\n",
        "    print(\"FAIL to reject the null hypothesis that the population means are equal.\")\n",
        "    print(\"Conclusion : Population means for both samples are EQUAL\")"
      ],
      "metadata": {
        "colab": {
          "base_uri": "https://localhost:8080/"
        },
        "id": "bYmJYz8N_eqI",
        "outputId": "9e89172f-5982-4d12-c2d9-b76821f23411"
      },
      "execution_count": null,
      "outputs": [
        {
          "output_type": "stream",
          "name": "stdout",
          "text": [
            "t-statistic =  -4.898172190065871\n",
            "p-value =  3.818871324846288e-06\n",
            "Confidence Interval = 0.99\n",
            "\n",
            "\n",
            "REJECT the null hypothesis that the population means are equal.\n",
            "Conclusion : Population means for both samples are DIFFERENT\n"
          ]
        }
      ]
    },
    {
      "cell_type": "markdown",
      "source": [
        "Q11: What is Student’s t distribution? When to use the t-Distribution."
      ],
      "metadata": {
        "id": "tACiYLO9_uKz"
      }
    },
    {
      "cell_type": "markdown",
      "source": [
        "Answer:-\n",
        "\n",
        "Student's t-distribution, also known as the t-distribution, is a probability distribution that is used to estimate the mean of a normally distributed population when the sample size is small and/or the population standard deviation is unknown. It was first introduced by William Sealy Gosset in 1908, who published under the pseudonym \"Student\".\n",
        "\n",
        "The t-distribution looks similar to a normal distribution, but it has heavier tails and is more spread out. The shape of the t-distribution depends on a parameter known as degrees of freedom (df), which is related to the sample size.\n",
        "\n",
        "In general, the t-distribution is used in hypothesis testing and confidence interval estimation when the sample size is small (less than 30) or the population standard deviation is unknown. It allows us to make inferences about the population mean based on a small sample of data. The t-distribution is commonly used in a variety of fields, including statistics, engineering, and social sciences.\n",
        "\n",
        "Specifically, we use the t-distribution when:\n",
        "\n",
        "1.The sample size is small (less than 30).\n",
        "\n",
        "2.The population standard deviation is unknown.\n",
        "\n",
        "3.The population is normally distributed or approximately normally distributed (the central limit theorem applies).\n",
        "\n",
        "4.We want to make inferences about the population mean, such as testing whether a sample mean is significantly different from a hypothesized\n",
        "\n",
        "5.population mean or constructing a confidence interval for the population mean.\n",
        "\n",
        "Overall, the t-distribution is a useful tool for statistical analysis when working with small sample sizes or when the population standard deviation is unknown."
      ],
      "metadata": {
        "id": "cOrL3oYCAVzP"
      }
    },
    {
      "cell_type": "markdown",
      "source": [
        "Q12: What is t-statistic? State the formula for t-statistic."
      ],
      "metadata": {
        "id": "jgAymLDYG3S6"
      }
    },
    {
      "cell_type": "markdown",
      "source": [
        "Answer:-\n",
        "\n",
        "The t-statistic is a test statistic that is used in hypothesis testing and confidence interval estimation when the population standard deviation is unknown and the sample size is small. It is a standardized measure of the difference between the sample mean and the hypothesized population mean, in units of the sample standard deviation.\n",
        "\n",
        "The formula for the t-statistic is:\n",
        "\n",
        "t = (x̄ - μ) / (s / √n)\n",
        "\n",
        "Where:\n",
        "\n",
        "x̄ is the sample mean\n",
        "μ is the hypothesized population mean\n",
        "s is the sample standard deviation\n",
        "n is the sample size\n",
        "√n is the square root of the sample size\n",
        "\n",
        "The formula shows that the t-statistic is the difference between the sample mean and hypothesized population mean, standardized by the standard error of the mean, which is the sample standard deviation divided by the square root of the sample size.\n"
      ],
      "metadata": {
        "id": "IbZmTRSDG362"
      }
    },
    {
      "cell_type": "markdown",
      "source": [
        "Question 13 : A coffee shop owner wants to estimate the average daily revenue for their shop. They take a random sample of 50 days and find the sample mean revenue to be 500 with a standard deviation of $ 50. Estimate the population\n",
        "mean revenue with a 95% confidence interval\n",
        "\n"
      ],
      "metadata": {
        "id": "V0yQY62NHhmI"
      }
    },
    {
      "cell_type": "markdown",
      "source": [
        "Answer:-"
      ],
      "metadata": {
        "id": "yJmd-la9HviD"
      }
    },
    {
      "cell_type": "code",
      "source": [
        "import math\n",
        "import scipy.stats as stats\n",
        "\n",
        "sample_mean = 500\n",
        "sample_std = 50\n",
        "sample_size = 50\n",
        "\n",
        "alpha = 0.05  # significance level\n",
        "dof = sample_size - 1  # degrees of freedom\n",
        "t_value = stats.t.ppf(1 - alpha/2, dof)  # two-tailed t-value\n",
        "\n",
        "std_error = sample_std / math.sqrt(sample_size)\n",
        "margin_of_error = t_value * std_error\n",
        "\n",
        "lower_bound = sample_mean - margin_of_error\n",
        "upper_bound = sample_mean + margin_of_error\n",
        "\n",
        "print(f\"The 95% confidence interval for the population mean revenue is: (${lower_bound:.2f}, ${upper_bound:.2f})\")"
      ],
      "metadata": {
        "colab": {
          "base_uri": "https://localhost:8080/"
        },
        "id": "vqiaaP6iIbay",
        "outputId": "ad766d51-03a7-4570-9dca-cf8ed0e0c885"
      },
      "execution_count": null,
      "outputs": [
        {
          "output_type": "stream",
          "name": "stdout",
          "text": [
            "The 95% confidence interval for the population mean revenue is: ($485.79, $514.21)\n"
          ]
        }
      ]
    },
    {
      "cell_type": "markdown",
      "source": [
        "Q14. A researcher hypothesizes that a new drug will decrease blood pressure by 10 mmHg. They conduct a\n",
        "clinical trial with 100 patients and find that the sample mean decrease in blood pressure is 8 mmHg with a\n",
        "standard deviation of 3 mmHg. Test the hypothesis with a significance level of 0.05."
      ],
      "metadata": {
        "id": "PYyzCzsiIxHN"
      }
    },
    {
      "cell_type": "markdown",
      "source": [
        "Answer:-"
      ],
      "metadata": {
        "id": "tcA7Vcn5Iziv"
      }
    },
    {
      "cell_type": "code",
      "source": [
        "import numpy as np\n",
        "from scipy import stats\n",
        "\n",
        "# Given data\n",
        "sample_mean = 8\n",
        "population_mean = 10\n",
        "sample_std_dev = 3\n",
        "sample_size = 100\n",
        "alpha = 0.05\n",
        "\n",
        "# Calculate the t-statistic\n",
        "t_stat = (sample_mean - population_mean) / (sample_std_dev / np.sqrt(sample_size))\n",
        "\n",
        "# Degrees of freedom\n",
        "df = sample_size - 1\n",
        "\n",
        "# Calculate the critical t-value for a two-tailed test\n",
        "critical_t = stats.t.ppf(1 - alpha / 2, df)\n",
        "\n",
        "# Calculate the p-value\n",
        "p_value = 2 * (1 - stats.t.cdf(np.abs(t_stat), df))\n",
        "\n",
        "# Determine the result of the hypothesis test\n",
        "if np.abs(t_stat) > critical_t:\n",
        "    result = \"Reject the null hypothesis (significant difference)\"\n",
        "else:\n",
        "    result = \"Fail to reject the null hypothesis (no significant difference)\"\n",
        "\n",
        "# Print the results\n",
        "print(f\"t-statistic: {t_stat}\")\n",
        "print(f\"p-value: {p_value}\")\n",
        "print(f\"Critical t-value: {critical_t}\")\n",
        "print(f\"Test result: {result}\")\n"
      ],
      "metadata": {
        "colab": {
          "base_uri": "https://localhost:8080/"
        },
        "id": "iGOndvRqIb7e",
        "outputId": "b153c2f5-96f7-41a9-9d3b-3bfd317e98cc"
      },
      "execution_count": null,
      "outputs": [
        {
          "output_type": "stream",
          "name": "stdout",
          "text": [
            "t-statistic: -6.666666666666667\n",
            "p-value: 1.5012289189542116e-09\n",
            "Critical t-value: 1.9842169515086827\n",
            "Test result: Reject the null hypothesis (significant difference)\n"
          ]
        }
      ]
    },
    {
      "cell_type": "markdown",
      "source": [
        "Q15. An electronics company produces a certain type of product with a mean weight of 5 pounds and a\n",
        "standard deviation of 0.5 pounds. A random sample of 25 products is taken, and the sample mean weight\n",
        "is found to be 4.8 pounds. Test the hypothesis that the true mean weight of the products is less than 5\n",
        "pounds with a significance level of 0.01."
      ],
      "metadata": {
        "id": "kIJKaoaHLRkr"
      }
    },
    {
      "cell_type": "markdown",
      "source": [
        "Answer:-\n",
        "\n"
      ],
      "metadata": {
        "id": "DBFFMtjyLSsx"
      }
    },
    {
      "cell_type": "code",
      "source": [
        "import math\n",
        "import scipy.stats as stats\n",
        "\n",
        "# population mean and standard deviation\n",
        "pop_mean = 5\n",
        "pop_std = 0.5\n",
        "\n",
        "# sample size and sample mean\n",
        "n = 25\n",
        "sample_mean = 4.8\n",
        "\n",
        "# null hypothesis: the true mean weight of the products is equal to 5 pounds\n",
        "# alternative hypothesis: the true mean weight of the products is less than 5 pounds\n",
        "null_hypothesis = \"The true mean weight of the products is equal to 5 pounds\"\n",
        "alternative_hypothesis = \"The true mean weight of the products is less than 5 pounds\"\n",
        "\n",
        "# calculate the t-value and p-value\n",
        "t_value = (sample_mean - pop_mean) / (pop_std / math.sqrt(n))\n",
        "p_value = stats.t.cdf(t_value, df=n-1)\n",
        "\n",
        "# compare the p-value with the significance level\n",
        "significance_level = 0.01\n",
        "\n",
        "if p_value < significance_level:\n",
        "    print(f\"The p-value is {p_value:.4f}, which is less than the significance level of {significance_level}.\")\n",
        "    print(f\"Reject the null hypothesis: {null_hypothesis}.\")\n",
        "    print(f\"Conclusion: {alternative_hypothesis}.\")\n",
        "else:\n",
        "    print(f\"The p-value is {p_value:.4f}, which is greater than the significance level of {significance_level}.\")\n",
        "    print(f\"Fail to reject the null hypothesis: {null_hypothesis}.\")\n",
        "    print(\"Conclusion: There is not enough evidence to conclude that the true mean weight of the products is less than 5 pounds.\")"
      ],
      "metadata": {
        "colab": {
          "base_uri": "https://localhost:8080/"
        },
        "id": "Al--Eq_IJmcE",
        "outputId": "f75adebe-58fe-47cb-f540-1884296e86d2"
      },
      "execution_count": null,
      "outputs": [
        {
          "output_type": "stream",
          "name": "stdout",
          "text": [
            "The p-value is 0.0285, which is greater than the significance level of 0.01.\n",
            "Fail to reject the null hypothesis: The true mean weight of the products is equal to 5 pounds.\n",
            "Conclusion: There is not enough evidence to conclude that the true mean weight of the products is less than 5 pounds.\n"
          ]
        }
      ]
    },
    {
      "cell_type": "markdown",
      "source": [
        "Q16. Two groups of students are given different study materials to prepare for a test. The first group (n1 =\n",
        "30) has a mean score of 80 with a standard deviation of 10, and the second group (n2 = 40) has a mean\n",
        "score of 75 with a standard deviation of 8. Test the hypothesis that the population means for the two\n",
        "groups are equal with a significance level of 0.01."
      ],
      "metadata": {
        "id": "RPo--SjzMIJz"
      }
    },
    {
      "cell_type": "markdown",
      "source": [
        "Answer:-\n",
        "\n",
        "To test the hypothesis that the population means for the two groups are equal, we can use a two-sample t-test with the following null and alternative hypotheses:\n",
        "\n",
        "Null Hypothesis (H0): The population means of the two groups are equal.\n",
        "\n",
        "𝐻0:𝜇1=𝜇2\n",
        "\n",
        "Alternative Hypothesis (H1): The population means of the two groups are not equal\n",
        "\n",
        "𝐻\n",
        "1\n",
        ":\n",
        "𝜇\n",
        "1\n",
        "≠\n",
        "𝜇\n",
        "2\n",
        "\n",
        "We can use the following formula to calculate the t-statistic:\n",
        "\n",
        "![Screenshot 2024-11-15 103604.png](data:image/png;base64,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)\n"
      ],
      "metadata": {
        "id": "zHIhxLUWMIvf"
      }
    },
    {
      "cell_type": "code",
      "source": [
        "import numpy as np\n",
        "from scipy import stats\n",
        "\n",
        "# Given data\n",
        "n1 = 30\n",
        "mean1 = 80\n",
        "std_dev1 = 10\n",
        "n2 = 40\n",
        "mean2 = 75\n",
        "std_dev2 = 8\n",
        "alpha = 0.01\n",
        "\n",
        "# Calculate the pooled standard deviation\n",
        "sp = np.sqrt(((n1 - 1) * std_dev1**2 + (n2 - 1) * std_dev2**2) / (n1 + n2 - 2))\n",
        "\n",
        "# Calculate the standard error\n",
        "se = sp * np.sqrt(1/n1 + 1/n2)\n",
        "\n",
        "# Calculate the t-statistic\n",
        "t_stat = (mean1 - mean2) / se\n",
        "\n",
        "# Degrees of freedom\n",
        "df = n1 + n2 - 2\n",
        "\n",
        "# Calculate the critical t-value for a two-tailed test\n",
        "critical_t = stats.t.ppf(1 - alpha / 2, df)\n",
        "\n",
        "# Calculate the p-value for a two-tailed test\n",
        "p_value = 2 * (1 - stats.t.cdf(np.abs(t_stat), df))\n",
        "\n",
        "# Determine the result of the hypothesis test\n",
        "if np.abs(t_stat) > critical_t:\n",
        "    result = \"Reject the null hypothesis (significant difference)\"\n",
        "else:\n",
        "    result = \"Fail to reject the null hypothesis (no significant difference)\"\n",
        "\n",
        "# Print the results\n",
        "print(f\"t-statistic: {t_stat}\")\n",
        "print(f\"p-value: {p_value}\")\n",
        "print(f\"Critical t-value: {critical_t}\")\n",
        "print(f\"Test result: {result}\")\n"
      ],
      "metadata": {
        "colab": {
          "base_uri": "https://localhost:8080/"
        },
        "id": "UKeDyS22MExN",
        "outputId": "563773ae-5e5d-49fa-dffa-53c649b78f91"
      },
      "execution_count": null,
      "outputs": [
        {
          "output_type": "stream",
          "name": "stdout",
          "text": [
            "t-statistic: 2.3239677296992913\n",
            "p-value: 0.023123013413725912\n",
            "Critical t-value: 2.650081298694729\n",
            "Test result: Fail to reject the null hypothesis (no significant difference)\n"
          ]
        }
      ]
    },
    {
      "cell_type": "markdown",
      "source": [
        "Q17. A marketing company wants to estimate the average number of ads watched by viewers during a TV\n",
        "program. They take a random sample of 50 viewers and find that the sample mean is 4 with a standard\n",
        "deviation of 1.5. Estimate the population mean with a 99% confidence interval."
      ],
      "metadata": {
        "id": "nhOU7-dSOPtC"
      }
    },
    {
      "cell_type": "markdown",
      "source": [
        "Answer:-\n"
      ],
      "metadata": {
        "id": "gKLQnrJgPlmw"
      }
    },
    {
      "cell_type": "code",
      "source": [
        "import scipy.stats as stats\n",
        "import math\n",
        "\n",
        "sample_mean = 4\n",
        "sample_size = 50\n",
        "sample_std_dev = 1.5\n",
        "conf_level = 0.99\n",
        "\n",
        "# calculate the t-value for the desired level of confidence and degrees of freedom\n",
        "t_value = stats.t.ppf((1+conf_level)/2,sample_size-1)\n",
        "\n",
        "# Calculate margin of error\n",
        "margin_error = t_value * (sample_std_dev / math.sqrt(sample_size))\n",
        "\n",
        "# Calculate confidence interval\n",
        "lower_interval = sample_mean - margin_error\n",
        "upper_interval = sample_mean + margin_error\n",
        "\n",
        "# Print results\n",
        "print(\"The population mean is between\", round(lower_interval, 2), \"and\", round(upper_interval, 2), \"with\", conf_level * 100, \"% confidence.\")\n"
      ],
      "metadata": {
        "colab": {
          "base_uri": "https://localhost:8080/"
        },
        "id": "0yUo1e-hOMvq",
        "outputId": "9fed1319-6ce0-44a7-8a07-058af0dacb28"
      },
      "execution_count": null,
      "outputs": [
        {
          "output_type": "stream",
          "name": "stdout",
          "text": [
            "The population mean is between 3.43 and 4.57 with 99.0 % confidence.\n"
          ]
        }
      ]
    },
    {
      "cell_type": "code",
      "source": [],
      "metadata": {
        "id": "GOucqXHjPoBO"
      },
      "execution_count": null,
      "outputs": []
    }
  ]
}